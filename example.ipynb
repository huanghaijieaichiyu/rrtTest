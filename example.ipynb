{
 "cells": [
  {
   "cell_type": "markdown",
   "metadata": {},
   "source": [
    "# 神经网络增强 RRT 算法教程\n",
    "\n",
    "本教程展示如何使用神经网络增强 RRT 算法进行路径规划。主要内容包括：\n",
    "\n",
    "1. 环境准备和依赖安装\n",
    "2. 训练数据生成和预处理\n",
    "3. 神经网络模型训练\n",
    "4. 使用训练好的模型进行路径规划\n",
    "5. 基于 Pygame 的可视化演示\n",
    "\n",
    "## 环境准备\n",
    "\n",
    "首先确保已安装所需的依赖包："
   ]
  },
  {
   "cell_type": "code",
   "execution_count": null,
   "metadata": {},
   "outputs": [],
   "source": [
    "!pip install torch numpy pygame matplotlib tqdm shapely pyyaml"
   ]
  },
  {
   "cell_type": "markdown",
   "metadata": {},
   "source": [
    "## 1. 导入必要的模块"
   ]
  },
  {
   "cell_type": "code",
   "execution_count": null,
   "metadata": {},
   "outputs": [],
   "source": [
    "import os\n",
    "import torch\n",
    "import numpy as np\n",
    "from tqdm.notebook import tqdm\n",
    "\n",
    "from ml.data import DataGenerator, create_data_loaders\n",
    "from ml.models.rrt_nn import NeuralRRT, SamplingNetwork, EvaluationNetwork, OptimizationNetwork\n",
    "from simulation.environment import Environment\n",
    "from rrt.rrt_star import RRTStar"
   ]
  },
  {
   "cell_type": "markdown",
   "metadata": {},
   "source": [
    "## 2. 训练数据准备\n",
    "\n",
    "### 2.1 创建数据生成器"
   ]
  },
  {
   "cell_type": "code",
   "execution_count": null,
   "metadata": {},
   "outputs": [],
   "source": [
    "# 配置数据生成器参数\n",
    "generator = DataGenerator(\n",
    "    env_width=1000.0,\n",
    "    env_height=500.0,\n",
    "    grid_size=(64, 64),\n",
    "    min_obstacles=20,\n",
    "    max_obstacles=50,\n",
    "    num_samples=1000\n",
    ")\n",
    "\n",
    "print(\"数据生成器初始化完成\")"
   ]
  },
  {
   "cell_type": "markdown",
   "metadata": {},
   "source": [
    "### 2.2 生成训练样本"
   ]
  },
  {
   "cell_type": "code",
   "execution_count": null,
   "metadata": {},
   "outputs": [],
   "source": [
    "# 生成训练样本\n",
    "num_examples = 1000\n",
    "examples = []\n",
    "\n",
    "with tqdm(total=num_examples, desc=\"生成训练样本\") as pbar:\n",
    "    while len(examples) < num_examples:\n",
    "        example = generator.generate_example()\n",
    "        if example is not None:\n",
    "            examples.append(example)\n",
    "            pbar.update(1)\n",
    "\n",
    "# 创建数据集\n",
    "dataset = generator.generate_dataset(examples)\n",
    "\n",
    "# 创建数据加载器\n",
    "train_loader, val_loader = create_data_loaders(\n",
    "    dataset,\n",
    "    batch_size=32,\n",
    "    train_ratio=0.8\n",
    ")"
   ]
  },
  {
   "cell_type": "markdown",
   "metadata": {},
   "source": [
    "### 2.3 查看数据集统计信息"
   ]
  },
  {
   "cell_type": "code",
   "execution_count": null,
   "metadata": {},
   "outputs": [],
   "source": [
    "def print_dataset_stats(dataset):\n",
    "    \"\"\"打印数据集统计信息\"\"\"\n",
    "    print(\"\\n数据集统计信息:\")\n",
    "    print(f\"样本数量: {len(dataset)}\")\n",
    "    \n",
    "    # 计算路径长度统计\n",
    "    path_lengths = [ex.path_length for ex in dataset.examples]\n",
    "    print(\"\\n路径长度统计:\")\n",
    "    print(f\"  最小值: {min(path_lengths):.2f}\")\n",
    "    print(f\"  最大值: {max(path_lengths):.2f}\")\n",
    "    print(f\"  平均值: {np.mean(path_lengths):.2f}\")\n",
    "    print(f\"  标准差: {np.std(path_lengths):.2f}\")\n",
    "    \n",
    "    # 计算平滑度统计\n",
    "    smoothness = [ex.smoothness for ex in dataset.examples]\n",
    "    print(\"\\n平滑度统计:\")\n",
    "    print(f\"  最小值: {min(smoothness):.2f}\")\n",
    "    print(f\"  最大值: {max(smoothness):.2f}\")\n",
    "    print(f\"  平均值: {np.mean(smoothness):.2f}\")\n",
    "    print(f\"  标准差: {np.std(smoothness):.2f}\")\n",
    "    \n",
    "    # 计算间隙统计\n",
    "    clearance = [ex.clearance for ex in dataset.examples]\n",
    "    print(\"\\n障碍物间隙统计:\")\n",
    "    print(f\"  最小值: {min(clearance):.2f}\")\n",
    "    print(f\"  最大值: {max(clearance):.2f}\")\n",
    "    print(f\"  平均值: {np.mean(clearance):.2f}\")\n",
    "    print(f\"  标准差: {np.std(clearance):.2f}\")\n",
    "\n",
    "print_dataset_stats(dataset)"
   ]
  },
  {
   "cell_type": "markdown",
   "metadata": {},
   "source": [
    "## 3. 模型训练\n",
    "\n",
    "### 3.1 初始化模型"
   ]
  },
  {
   "cell_type": "code",
   "execution_count": null,
   "metadata": {},
   "outputs": [],
   "source": [
    "# 设置设备\n",
    "device = torch.device('cuda' if torch.cuda.is_available() else 'cpu')\n",
    "\n",
    "# 初始化神经网络\n",
    "sampling_net = SamplingNetwork().to(device)\n",
    "evaluation_net = EvaluationNetwork().to(device)\n",
    "optimization_net = OptimizationNetwork().to(device)\n",
    "\n",
    "# 创建优化器\n",
    "learning_rate = 1e-3\n",
    "optimizers = {\n",
    "    'sampling': torch.optim.Adam(sampling_net.parameters(), lr=learning_rate),\n",
    "    'evaluation': torch.optim.Adam(evaluation_net.parameters(), lr=learning_rate),\n",
    "    'optimization': torch.optim.Adam(optimization_net.parameters(), lr=learning_rate)\n",
    "}"
   ]
  },
  {
   "cell_type": "markdown",
   "metadata": {},
   "source": [
    "### 3.2 训练模型"
   ]
  },
  {
   "cell_type": "code",
   "execution_count": null,
   "metadata": {},
   "outputs": [],
   "source": [
    "num_epochs = 100\n",
    "save_dir = 'results/models'\n",
    "os.makedirs(save_dir, exist_ok=True)\n",
    "\n",
    "# 训练循环\n",
    "for epoch in range(num_epochs):\n",
    "    # 训练模式\n",
    "    sampling_net.train()\n",
    "    evaluation_net.train()\n",
    "    optimization_net.train()\n",
    "    \n",
    "    train_loss = {'sampling': 0.0, 'evaluation': 0.0, 'optimization': 0.0}\n",
    "    \n",
    "    with tqdm(train_loader, desc=f'Epoch {epoch+1}/{num_epochs}') as pbar:\n",
    "        for batch in pbar:\n",
    "            # 将数据移到设备上\n",
    "            env_state = batch['env_state'].to(device)\n",
    "            start = batch['start'].to(device)\n",
    "            goal = batch['goal'].to(device)\n",
    "            path = batch['path'].to(device)\n",
    "            \n",
    "            # 训练采样网络\n",
    "            optimizers['sampling'].zero_grad()\n",
    "            sample_loss = sampling_net.compute_loss(env_state, start, goal)\n",
    "            sample_loss.backward()\n",
    "            optimizers['sampling'].step()\n",
    "            \n",
    "            # 训练评估网络\n",
    "            optimizers['evaluation'].zero_grad()\n",
    "            eval_loss = evaluation_net.compute_loss(env_state, path)\n",
    "            eval_loss.backward()\n",
    "            optimizers['evaluation'].step()\n",
    "            \n",
    "            # 训练优化网络\n",
    "            optimizers['optimization'].zero_grad()\n",
    "            opt_loss = optimization_net.compute_loss(env_state, path)\n",
    "            opt_loss.backward()\n",
    "            optimizers['optimization'].step()\n",
    "            \n",
    "            # 更新损失\n",
    "            train_loss['sampling'] += sample_loss.item()\n",
    "            train_loss['evaluation'] += eval_loss.item()\n",
    "            train_loss['optimization'] += opt_loss.item()\n",
    "            \n",
    "            # 更新进度条\n",
    "            pbar.set_postfix({\n",
    "                'sample_loss': sample_loss.item(),\n",
    "                'eval_loss': eval_loss.item(),\n",
    "                'opt_loss': opt_loss.item()\n",
    "            })\n",
    "    \n",
    "    # 打印每个 epoch 的平均损失\n",
    "    print(f\"\\nEpoch {epoch+1} 平均损失:\")\n",
    "    for key, value in train_loss.items():\n",
    "        print(f\"  {key}: {value/len(train_loader):.4f}\")\n",
    "    \n",
    "    # 保存模型\n",
    "    if (epoch + 1) % 10 == 0:\n",
    "        torch.save(sampling_net.state_dict(), f\"{save_dir}/sampling_net_epoch_{epoch+1}.pt\")\n",
    "        torch.save(evaluation_net.state_dict(), f\"{save_dir}/evaluation_net_epoch_{epoch+1}.pt\")\n",
    "        torch.save(optimization_net.state_dict(), f\"{save_dir}/optimization_net_epoch_{epoch+1}.pt\")"
   ]
  },
  {
   "cell_type": "markdown",
   "metadata": {},
   "source": [
    "## 4. 使用训练好的模型进行路径规划\n",
    "\n",
    "### 4.1 创建测试环境"
   ]
  },
  {
   "cell_type": "code",
   "execution_count": null,
   "metadata": {},
   "outputs": [],
   "source": [
    "# 创建测试环境\n",
    "test_env = Environment(width=1000.0, height=500.0)\n",
    "\n",
    "# 添加一些障碍物\n",
    "test_env.add_obstacle(x=300, y=250, obstacle_type=\"circle\", radius=50)\n",
    "test_env.add_obstacle(x=600, y=300, obstacle_type=\"rectangle\", width=100, height=80)\n",
    "test_env.add_obstacle(x=800, y=200, obstacle_type=\"circle\", radius=40)\n",
    "\n",
    "# 设置起点和终点\n",
    "start_point = (100, 100)\n",
    "goal_point = (900, 400)\n",
    "\n",
    "# 可视化环境\n",
    "test_env.visualize()"
   ]
  },
  {
   "cell_type": "markdown",
   "metadata": {},
   "source": [
    "### 4.2 使用神经网络增强的 RRT 进行路径规划"
   ]
  },
  {
   "cell_type": "code",
   "execution_count": null,
   "metadata": {},
   "outputs": [],
   "source": [
    "# 创建神经网络增强的 RRT 规划器\n",
    "neural_rrt = NeuralRRT(\n",
    "    sampling_net=sampling_net,\n",
    "    evaluation_net=evaluation_net,\n",
    "    optimization_net=optimization_net,\n",
    "    start=start_point,\n",
    "    goal=goal_point,\n",
    "    env=test_env,\n",
    "    max_iterations=2000\n",
    ")\n",
    "\n",
    "# 进行路径规划\n",
    "path = neural_rrt.plan()\n",
    "\n",
    "if path:\n",
    "    print(\"路径规划成功!\")\n",
    "    # 可视化规划结果\n",
    "    test_env.visualize_path(path)\n",
    "else:\n",
    "    print(\"未找到有效路径\")"
   ]
  },
  {
   "cell_type": "markdown",
   "metadata": {},
   "source": [
    "### 4.3 与传统 RRT* 算法对比"
   ]
  },
  {
   "cell_type": "code",
   "execution_count": null,
   "metadata": {},
   "outputs": [],
   "source": [
    "# 使用传统 RRT* 进行规划\n",
    "rrt_star = RRTStar(\n",
    "    start=start_point,\n",
    "    goal=goal_point,\n",
    "    env=test_env,\n",
    "    max_iterations=2000\n",
    ")\n",
    "\n",
    "rrt_path = rrt_star.plan()\n",
    "\n",
    "if rrt_path:\n",
    "    print(\"RRT* 规划成功!\")\n",
    "    # 可视化规划结果\n",
    "    test_env.visualize_path(rrt_path)\n",
    "else:\n",
    "    print(\"RRT* 未找到有效路径\")\n",
    "\n",
    "# 比较路径质量\n",
    "if path and rrt_path:\n",
    "    neural_length = sum(np.linalg.norm(np.array(path[i+1]) - np.array(path[i])) \n",
    "                       for i in range(len(path)-1))\n",
    "    rrt_length = sum(np.linalg.norm(np.array(rrt_path[i+1]) - np.array(rrt_path[i])) \n",
    "                     for i in range(len(rrt_path)-1))\n",
    "    \n",
    "    print(f\"\\n路径长度对比:\")\n",
    "    print(f\"神经网络增强 RRT: {neural_length:.2f}\")\n",
    "    print(f\"传统 RRT*: {rrt_length:.2f}\")\n",
    "    print(f\"改进比例: {((rrt_length - neural_length) / rrt_length * 100):.2f}%\")"
   ]
  },
  {
   "cell_type": "markdown",
   "metadata": {},
   "source": [
    "## 5. 总结\n",
    "\n",
    "本教程展示了如何：\n",
    "\n",
    "1. 准备训练数据\n",
    "2. 训练神经网络模型\n",
    "3. 使用训练好的模型进行路径规划\n",
    "4. 与传统 RRT* 算法进行对比\n",
    "\n",
    "神经网络增强的 RRT 算法通过学习环境特征和历史规划经验，可以：\n",
    "\n",
    "- 生成更智能的采样策略\n",
    "- 更准确地评估路径质量\n",
    "- 优化生成的路径\n",
    "\n",
    "这些改进使得算法能够更快地找到更优质的路径。"
   ]
  }
 ],
 "metadata": {
  "kernelspec": {
   "display_name": "rrtCarsim",
   "language": "python",
   "name": "python3"
  },
  "language_info": {
   "codemirror_mode": {
    "name": "ipython",
    "version": 3
   },
   "file_extension": ".py",
   "mimetype": "text/x-python",
   "name": "python",
   "nbconvert_exporter": "python",
   "pygments_lexer": "ipython3",
   "version": "3.10.16"
  }
 },
 "nbformat": 4,
 "nbformat_minor": 4
}
